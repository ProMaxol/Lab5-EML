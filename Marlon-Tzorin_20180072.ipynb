{
 "cells": [
  {
   "cell_type": "markdown",
   "id": "irish-discipline",
   "metadata": {},
   "source": [
    "# Marlon Tzorin - Lab5 - 20180072"
   ]
  },
  {
   "cell_type": "code",
   "execution_count": 2,
   "id": "corresponding-couple",
   "metadata": {},
   "outputs": [],
   "source": [
    "import warnings\n",
    "warnings.filterwarnings(action='ignore')"
   ]
  },
  {
   "cell_type": "code",
   "execution_count": 3,
   "id": "protecting-commercial",
   "metadata": {},
   "outputs": [],
   "source": [
    "import pandas as pd \n",
    "import numpy as np \n",
    "import matplotlib.pyplot as plt"
   ]
  },
  {
   "cell_type": "markdown",
   "id": "statewide-impact",
   "metadata": {},
   "source": [
    "### Leer el archivo CSV proporcionado (Admission_Predict.csv, https://www.kaggle.com/mohansacharya/graduate-admissions) y almacenarlo en un np.array para ser trabajado en el notebook."
   ]
  },
  {
   "cell_type": "code",
   "execution_count": 4,
   "id": "popular-endorsement",
   "metadata": {},
   "outputs": [],
   "source": [
    "df = pd.read_csv('Admission_Predict.csv')\n",
    "df.insert(loc=0, column='unos', value=1) "
   ]
  },
  {
   "cell_type": "code",
   "execution_count": 8,
   "id": "oriental-musician",
   "metadata": {},
   "outputs": [],
   "source": [
    "df = df.sample(frac=1)\n",
    "data = np.array(df)\n",
    "train, validate, test = np.split(data, [int(len(data)*0.7), int(len(data)*0.85)])"
   ]
  },
  {
   "cell_type": "markdown",
   "id": "compressed-stomach",
   "metadata": {},
   "source": [
    "### X & Y"
   ]
  },
  {
   "cell_type": "code",
   "execution_count": 10,
   "id": "homeless-association",
   "metadata": {},
   "outputs": [],
   "source": [
    "X_train = train[:,0:9]\n",
    "x_cv = validate[:,0:9]\n",
    "x_test = test[:,0:9]\n",
    "\n",
    "y_train = train[:,9].reshape(len(X_train),1)\n",
    "y_cv = validate[:,9].reshape(len(x_cv),1)\n",
    "y_test = test[:,9].reshape(len(x_test),1)"
   ]
  },
  {
   "cell_type": "markdown",
   "id": "structured-value",
   "metadata": {},
   "source": [
    "### Asegúrese de usar el lambda que mejor apoye al modelo que ha implementado para describir y predecir la información sobre la nube de datos."
   ]
  },
  {
   "cell_type": "code",
   "execution_count": 15,
   "id": "endangered-updating",
   "metadata": {},
   "outputs": [],
   "source": [
    "def linear_function_cost(X, y, theta, lamb):\n",
    "    h = X @ theta\n",
    "    lamb = (lamb/(2*len(X))) * (theta**2).sum()\n",
    "    return ((y - h) ** 2).sum() / (2 * len(X)) + lamb\n",
    "\n",
    "def linear_gradient_cost(X, y, theta, lamb):\n",
    "    h = X @ theta\n",
    "    lamb = lamb*theta\n",
    "    return (((h - y).T @ X).T + lamb) / len(X)\n",
    "\n",
    "def gradient_descent_cost(X, y, theta_0, linear_function, linear_gradient, learning_rate=0.0000001, threshold= 2, max_iter=1000, lamb=10):\n",
    "    theta = theta_0\n",
    "    iteration = 0\n",
    "    costs = []\n",
    "    thetas = []\n",
    "    while np.linalg.norm(linear_gradient(X, y, theta,lamb)) > threshold and iteration < max_iter:\n",
    "        iteration += 1\n",
    "        theta = theta - (learning_rate * linear_gradient(X, y, theta, lamb))\n",
    "        costs.append(linear_function(X, y, theta, lamb))\n",
    "        thetas.append(theta.copy())\n",
    "    return theta, costs, thetas\n",
    "\n",
    "m, n =  X_train.shape\n",
    "random_theta1 = np.random.rand(n,1)"
   ]
  },
  {
   "cell_type": "markdown",
   "id": "vital-amino",
   "metadata": {},
   "source": [
    "### P1"
   ]
  },
  {
   "cell_type": "code",
   "execution_count": 16,
   "id": "plastic-doctor",
   "metadata": {},
   "outputs": [
    {
     "data": {
      "image/png": "[encoded data removed]",
      "text/plain": [
       "<Figure size 432x288 with 1 Axes>"
      ]
     },
     "metadata": {
      "needs_background": "light"
     },
     "output_type": "display_data"
    }
   ],
   "source": [
    "theta_results1, costs1, thetas1 = gradient_descent_cost(X_train, y_train, random_theta1, linear_function_cost, linear_gradient_cost, lamb=10)\n",
    "xrow = np.arange(0,1000,1).reshape(-1,1)\n",
    "plt.scatter(xrow, costs1)\n",
    "plt.show()"
   ]
  },
  {
   "cell_type": "code",
   "execution_count": 31,
   "id": "intended-relation",
   "metadata": {},
   "outputs": [
    {
     "data": {
      "text/plain": [
       "[<matplotlib.lines.Line2D at 0x218daeca700>]"
      ]
     },
     "execution_count": 31,
     "metadata": {},
     "output_type": "execute_result"
    },
    {
     "data": {
      "image/png": "[encoded data removed]",
      "text/plain": [
       "<Figure size 432x288 with 1 Axes>"
      ]
     },
     "metadata": {
      "needs_background": "light"
     },
     "output_type": "display_data"
    }
   ],
   "source": [
    "plt.plot(costs1)"
   ]
  },
  {
   "cell_type": "code",
   "execution_count": 18,
   "id": "white-radio",
   "metadata": {},
   "outputs": [
    {
     "data": {
      "text/plain": [
       "49.77554169696632"
      ]
     },
     "execution_count": 18,
     "metadata": {},
     "output_type": "execute_result"
    }
   ],
   "source": [
    "costs1[-1]"
   ]
  },
  {
   "cell_type": "markdown",
   "id": "guided-basics",
   "metadata": {},
   "source": [
    "El modelo tiene un poco de variación entre los 3 sets (training, testing y el CV). Sin embargo, vemos que la función de costo casi llega a 0 lo cual es algo bueno. Analizaremos otros polinomios para ver si logramos mejorar el modelo"
   ]
  },
  {
   "cell_type": "markdown",
   "id": "lightweight-priest",
   "metadata": {},
   "source": [
    "# P2"
   ]
  },
  {
   "cell_type": "code",
   "execution_count": 21,
   "id": "vulnerable-pricing",
   "metadata": {},
   "outputs": [],
   "source": [
    "p2 = (X_train[:,1]**2).reshape(len(X_train),1)\n",
    "X_train2 = np.append(X_train, p2, axis=1)\n",
    "p2 = (x_cv[:,1]**2).reshape(len(x_cv),1)\n",
    "x_cv2 = np.append(x_cv, p2, axis=1)\n",
    "p2 = (x_test[:,1]**2).reshape(len(x_test),1)\n",
    "x_test2 = np.append(x_test, p2, axis=1)\n",
    "m,n = X_train.shape\n",
    "random_theta2 = np.random.rand(n+1,1)"
   ]
  },
  {
   "cell_type": "code",
   "execution_count": 23,
   "id": "opposed-control",
   "metadata": {},
   "outputs": [
    {
     "data": {
      "image/png": "[encoded data removed]",
      "text/plain": [
       "<Figure size 432x288 with 1 Axes>"
      ]
     },
     "metadata": {
      "needs_background": "light"
     },
     "output_type": "display_data"
    }
   ],
   "source": [
    "theta_results2, costs2, thetas2 = gradient_descent_cost(X_train2, y_train, random_theta2, linear_function_cost, linear_gradient_cost, learning_rate=0.00000000001, lamb=10)\n",
    "xrow = np.arange(0,1000,1).reshape(-1,1)\n",
    "plt.scatter(xrow, costs2)\n",
    "plt.show()"
   ]
  },
  {
   "cell_type": "code",
   "execution_count": 32,
   "id": "satellite-boring",
   "metadata": {},
   "outputs": [
    {
     "data": {
      "text/plain": [
       "[<matplotlib.lines.Line2D at 0x218daf1ba00>]"
      ]
     },
     "execution_count": 32,
     "metadata": {},
     "output_type": "execute_result"
    },
    {
     "data": {
      "image/png": "[encoded data removed]",
      "text/plain": [
       "<Figure size 432x288 with 1 Axes>"
      ]
     },
     "metadata": {
      "needs_background": "light"
     },
     "output_type": "display_data"
    }
   ],
   "source": [
    "plt.plot(costs2)"
   ]
  },
  {
   "cell_type": "code",
   "execution_count": 18,
   "id": "piano-python",
   "metadata": {},
   "outputs": [
    {
     "data": {
      "text/plain": [
       "12998.715414664128"
      ]
     },
     "execution_count": 18,
     "metadata": {},
     "output_type": "execute_result"
    }
   ],
   "source": [
    "costs2[-1]"
   ]
  },
  {
   "cell_type": "markdown",
   "id": "ready-eugene",
   "metadata": {},
   "source": [
    "# P3"
   ]
  },
  {
   "cell_type": "code",
   "execution_count": 25,
   "id": "velvet-contents",
   "metadata": {},
   "outputs": [],
   "source": [
    "p3 = (X_train[:,1]**3).reshape(len(X_train),1)\n",
    "X_train3 = np.append(X_train2, p3, axis=1)\n",
    "p3 = (x_cv[:,1]**3).reshape(len(x_cv),1)\n",
    "x_cv3 = np.append(x_cv2, p3, axis=1)\n",
    "p3 = (x_test[:,1]**3).reshape(len(x_test),1)\n",
    "x_test3 = np.append(x_cv2, p3, axis=1)\n",
    "m,n = X_train3.shape\n",
    "random_theta3 = np.random.rand(n,1)\n"
   ]
  },
  {
   "cell_type": "code",
   "execution_count": 34,
   "id": "stable-sucking",
   "metadata": {},
   "outputs": [
    {
     "data": {
      "image/png": "[encoded data removed]",
      "text/plain": [
       "<Figure size 432x288 with 1 Axes>"
      ]
     },
     "metadata": {
      "needs_background": "light"
     },
     "output_type": "display_data"
    }
   ],
   "source": [
    "theta_results3, costs3, thetas3 = gradient_descent_cost(X_train3, y_train, random_theta3, linear_function_cost, linear_gradient_cost, learning_rate=0.000000000000001)\n",
    "xrow = np.arange(0,1000,1).reshape(-1,1)\n",
    "plt.scatter(xrow, costs3)\n",
    "plt.show()"
   ]
  },
  {
   "cell_type": "code",
   "execution_count": 33,
   "id": "boxed-federation",
   "metadata": {},
   "outputs": [
    {
     "data": {
      "text/plain": [
       "[<matplotlib.lines.Line2D at 0x218daf56eb0>]"
      ]
     },
     "execution_count": 33,
     "metadata": {},
     "output_type": "execute_result"
    },
    {
     "data": {
      "image/png": "[encoded data removed]",
      "text/plain": [
       "<Figure size 432x288 with 1 Axes>"
      ]
     },
     "metadata": {
      "needs_background": "light"
     },
     "output_type": "display_data"
    }
   ],
   "source": [
    "plt.plot(costs3)"
   ]
  },
  {
   "cell_type": "code",
   "execution_count": 28,
   "id": "sought-explorer",
   "metadata": {},
   "outputs": [
    {
     "data": {
      "text/plain": [
       "9828982.832451964"
      ]
     },
     "execution_count": 28,
     "metadata": {},
     "output_type": "execute_result"
    }
   ],
   "source": [
    "costs3[-1]"
   ]
  },
  {
   "cell_type": "markdown",
   "id": "corporate-slovakia",
   "metadata": {},
   "source": [
    "# Conclusiones\n",
    "Al probar con 3 diferentes polinomios me di cuenta que entre el polinomio 2 y 3 realmente todo se va por un drenaje , por lo cual creo que se llego a ese punto en el que polinomio marginal tiene un efecto decreciente , en otros palabras que con el poliniomio 2 llego a su punto optimo. El parametro de lamba usado fue de 10 a discrecion de su servidor. y no se puede apreciar que haya algun tipo de bias o variance."
   ]
  }
 ],
 "metadata": {
  "kernelspec": {
   "display_name": "Python 3",
   "language": "python",
   "name": "python3"
  },
  "language_info": {
   "codemirror_mode": {
    "name": "ipython",
    "version": 3
   },
   "file_extension": ".py",
   "mimetype": "text/x-python",
   "name": "python",
   "nbconvert_exporter": "python",
   "pygments_lexer": "ipython3",
   "version": "3.9.1"
  }
 },
 "nbformat": 4,
 "nbformat_minor": 5
}
